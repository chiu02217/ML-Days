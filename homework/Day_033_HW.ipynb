{
 "cells": [
  {
   "cell_type": "code",
   "execution_count": null,
   "metadata": {},
   "outputs": [],
   "source": [
    "1.在測試時，如果遇見在訓練時沒有見過的數據時，須利用泛化，也就是可以被廣泛使用卻仍在我們模型範圍內，也就是他的適應性很好~\n",
    "2.回歸問題:1.MAE 2.MSE 3.RMSE\n",
    "  分類問題:交叉熵"
   ]
  }
 ],
 "metadata": {
  "kernelspec": {
   "display_name": "Python 3",
   "language": "python",
   "name": "python3"
  },
  "language_info": {
   "codemirror_mode": {
    "name": "ipython",
    "version": 3
   },
   "file_extension": ".py",
   "mimetype": "text/x-python",
   "name": "python",
   "nbconvert_exporter": "python",
   "pygments_lexer": "ipython3",
   "version": "3.7.6"
  }
 },
 "nbformat": 4,
 "nbformat_minor": 4
}
