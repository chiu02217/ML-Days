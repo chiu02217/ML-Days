{
 "cells": [
  {
   "cell_type": "code",
   "execution_count": null,
   "metadata": {},
   "outputs": [],
   "source": [
    "我認為機器學習可以在創作音樂方面得到很傑出的表現，透過學習和弦的應用與給予現今世上得到世人認可音樂的模式、型態(EX:和弦的組合等)\n",
    "的範例，給予樂理相關知識使其學習。\n",
    "因為和弦有固定的數量，而且一首完整的歌只採用幾個配起來和諧的和弦，現今歌曲很多也只是和弦固定，歌詞與節奏改變而已，所以我覺得\n",
    "這對機器學習並不是件難事"
   ]
  }
 ],
 "metadata": {
  "kernelspec": {
   "display_name": "Python 3",
   "language": "python",
   "name": "python3"
  },
  "language_info": {
   "codemirror_mode": {
    "name": "ipython",
    "version": 3
   },
   "file_extension": ".py",
   "mimetype": "text/x-python",
   "name": "python",
   "nbconvert_exporter": "python",
   "pygments_lexer": "ipython3",
   "version": "3.7.6"
  }
 },
 "nbformat": 4,
 "nbformat_minor": 4
}
