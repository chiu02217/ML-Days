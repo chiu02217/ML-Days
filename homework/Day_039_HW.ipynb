{
 "cells": [
  {
   "cell_type": "code",
   "execution_count": null,
   "metadata": {},
   "outputs": [],
   "source": [
    "1.因為L1 penalty，可以把一些過大的係數削減到0，如此就剩下一些特徵而已\n",
    "2.脊回歸為專門解決自變數高度共線性，線性回歸如果能限制参数w的增长，使w不会变得特别大，那么模型对输入w中噪声的敏感度就会降低"
   ]
  }
 ],
 "metadata": {
  "kernelspec": {
   "display_name": "Python 3",
   "language": "python",
   "name": "python3"
  },
  "language_info": {
   "codemirror_mode": {
    "name": "ipython",
    "version": 3
   },
   "file_extension": ".py",
   "mimetype": "text/x-python",
   "name": "python",
   "nbconvert_exporter": "python",
   "pygments_lexer": "ipython3",
   "version": "3.7.6"
  }
 },
 "nbformat": 4,
 "nbformat_minor": 4
}
