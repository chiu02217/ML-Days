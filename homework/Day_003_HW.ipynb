{
 "cells": [
  {
   "cell_type": "code",
   "execution_count": null,
   "metadata": {},
   "outputs": [],
   "source": [
    "找的是:帶噪學習(https://www.jiqizhixin.com/articles/2020-05-16-4)這篇文章\n",
    "目標任務:\n",
    "    在數據集下優化一個LOSS FUNCTION，使得在 noisy label下訓練得到的解，在性能上接近在 clean label下訓練得到的解，x 和 y 代表樣本和對應的 label,\n",
    "方法:\n",
    "    MAE、CE、peer loss(最優)、samples selection和 label correction、Asymmetric Co-teaching(非對稱的思想去解决 noise label)\n",
    "資料來源:\n",
    "     noise transition matrix T、noisy label分布和對應的數據集(MNIST、Fashion MNIST、CIFAR-10等)"
   ]
  }
 ],
 "metadata": {
  "kernelspec": {
   "display_name": "Python 3",
   "language": "python",
   "name": "python3"
  },
  "language_info": {
   "codemirror_mode": {
    "name": "ipython",
    "version": 3
   },
   "file_extension": ".py",
   "mimetype": "text/x-python",
   "name": "python",
   "nbconvert_exporter": "python",
   "pygments_lexer": "ipython3",
   "version": "3.7.6"
  }
 },
 "nbformat": 4,
 "nbformat_minor": 4
}
